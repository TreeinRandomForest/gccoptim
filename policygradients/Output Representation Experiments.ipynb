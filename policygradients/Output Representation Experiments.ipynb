{
 "cells": [
  {
   "cell_type": "code",
   "execution_count": 1,
   "metadata": {},
   "outputs": [],
   "source": [
    "%load_ext autoreload\n",
    "%autoreload 2\n",
    "%matplotlib inline"
   ]
  },
  {
   "cell_type": "code",
   "execution_count": 2,
   "metadata": {},
   "outputs": [],
   "source": [
    "import numpy as np\n",
    "\n",
    "import torch\n",
    "import torch.optim as optim\n",
    "import torch.nn as nn\n",
    "import matplotlib.pylab as plt\n",
    "from torchvision.datasets import MNIST, FashionMNIST, CIFAR100\n",
    "from torchvision import transforms\n",
    "from torch.utils.data import Subset"
   ]
  },
  {
   "cell_type": "code",
   "execution_count": 3,
   "metadata": {},
   "outputs": [
    {
     "name": "stdout",
     "output_type": "stream",
     "text": [
      "cuda:0\n"
     ]
    }
   ],
   "source": [
    "device = torch.device(\"cuda:0\" if torch.cuda.is_available() else \"cpu\")\n",
    "print(device)"
   ]
  },
  {
   "cell_type": "markdown",
   "metadata": {},
   "source": [
    "A central goal for us is to replace policies in various systems (compilers, operating systems, schedulers etc.) by statistical models that can adapt. In order to do so, our models need to output what values we should set various parameters to. These parameters are almost always integers in some range $[0, N_{\\text{max}}-1]$.\n",
    "\n",
    "If the model is a neural network, we can treat this as a classification model with $N_{\\text{max}}$ classes. While this is a reasonable approach, we would like to explore alternate representations of the output and their effects on the model's ability to learn.\n",
    "\n",
    "In this notebook, we use MNIST as a dataset. This is the standard, small dataset consisting of hand-written digits with 10 classes (digits $0,\\ldots,9$). While this is no longer a challenging dataset for neural networks, it is very useful for experiments like the ones here.\n",
    "\n",
    "The three representations we try are:\n",
    "\n",
    "1. Classification with a softmax layer on $N_{\\text{max}}$ classes. This is the classic treatment with a cross-entropy loss.\n",
    "\n",
    "2. Treating the output class as a bit-vector. As motivation consider the parameter \"asan-instrumentation-with-call-threshold\" for gcc (v9.2.1). This parameter takes values from 0 to 2,147,483,647. An output with ~2 billion classes will result in sparse probabilities as well as a large memory footprint. \n",
    "\n",
    "Computers represent such integers as bit-vectors of length $\\log_2(N_{\\text{max}})$ (31 bits - probably a 4-byte int). We will represent the labels as these bit-vectors too and treat the output layer as $\\log_2(N_{\\text{max}})$ sigmoid nodes with a cross-entropy loss for each bit.\n",
    "\n",
    "We can guess some of the things that can go wrong here. Consider the label, $5 = (101)_2$.\n",
    "\n"
   ]
  },
  {
   "cell_type": "code",
   "execution_count": 93,
   "metadata": {},
   "outputs": [],
   "source": [
    "def filter_dataset(dataset, limit):\n",
    "    dataset.targets = np.array(dataset.targets)\n",
    "    \n",
    "    idx = np.where(dataset.targets <= limit)[0]\n",
    "    dataset.data = dataset.data[idx]\n",
    "    dataset.targets = dataset.targets[idx]\n",
    "    \n",
    "    return dataset\n",
    "\n",
    "def plot_samples(dataset, N_samples=3):\n",
    "    for idx in np.random.choice(dataset.data.shape[0], N_samples):\n",
    "        plt.figure()\n",
    "        plt.imshow(dataset.data[idx])\n",
    "        print(dataset.targets[idx], dataset.classes[dataset.targets[idx]])\n",
    "        \n",
    "        \n",
    "def create_dataloader(dataset, batch_size, num_workers=8):\n",
    "    dataloader = torch.utils.data.DataLoader(dataset,\n",
    "                                             batch_size=batch_size,\n",
    "                                             shuffle=True,\n",
    "                                             num_workers=num_workers,\n",
    "                                             pin_memory=True)\n",
    "    \n",
    "    return dataloader\n",
    "\n",
    "class Flatten(nn.Module):\n",
    "    def __init__(self):\n",
    "        super(Flatten, self).__init__()\n",
    "        \n",
    "    def forward(self, inp):\n",
    "        return inp.flatten(start_dim=1, end_dim=-1)\n",
    "        \n",
    "def train_network(net, N_epochs, train_dataloader, criterion, optimizer, preprocess_target=None):\n",
    "    net.train()\n",
    "    net.to(device)\n",
    "\n",
    "    for epoch in range(N_epochs):\n",
    "        loss_list = []\n",
    "        for idx, (data_example, data_target) in enumerate(train_dataloader):\n",
    "            data_example = data_example.to(device)\n",
    "            data_target = data_target.to(device)\n",
    "\n",
    "            if preprocess_target is not None:\n",
    "                data_target = preprocess_target(data_target)\n",
    "                #data_target = convert_to_binary(data_target)\n",
    "                \n",
    "            pred = net(data_example)\n",
    "\n",
    "            loss = criterion(pred, data_target)\n",
    "\n",
    "            optimizer.zero_grad()\n",
    "            loss.backward()\n",
    "            optimizer.step()\n",
    "\n",
    "            loss_list.append(loss.item())\n",
    "\n",
    "        if epoch % 5 == 0:        \n",
    "            print(f'Epoch = {epoch} Loss = {np.mean(loss_list)}')    \n",
    "        \n",
    "    return net, loss_list\n",
    "\n",
    "def compute_accuracy(dataloader, net, process_pred=lambda x: x.argmax(dim=1).float()):\n",
    "    net.eval()\n",
    "    pred, targets = torch.tensor([]), torch.tensor([])\n",
    "\n",
    "    with torch.no_grad(): #context manager for inference since we don't need the memory footprint of gradients\n",
    "        for idx, (data_example, data_target) in enumerate(dataloader):\n",
    "            data_example = data_example.to(device)\n",
    "\n",
    "            #make predictions\n",
    "            label_pred = process_pred(net(data_example))\n",
    "                \n",
    "            #concat and store both predictions and targets\n",
    "            label_pred = label_pred.to('cpu')\n",
    "            pred = torch.cat((pred, label_pred))\n",
    "            targets = torch.cat((targets, data_target.float()))\n",
    "\n",
    "    assert(pred.shape == targets.shape)\n",
    "    accuracy = torch.sum(pred == targets).item() / pred.shape[0]\n",
    "    print(f'Accuracy = {accuracy:.4f}')"
   ]
  },
  {
   "cell_type": "markdown",
   "metadata": {},
   "source": [
    "## Experiment 1: Softmax (Standard)"
   ]
  },
  {
   "cell_type": "markdown",
   "metadata": {},
   "source": [
    "### MNIST:"
   ]
  },
  {
   "cell_type": "code",
   "execution_count": 87,
   "metadata": {},
   "outputs": [],
   "source": [
    "DOWNLOAD_PATH = \"/home/sanjay/BrnoMLWorkshop2019/BrnoTeaching2019/data/MNIST\""
   ]
  },
  {
   "cell_type": "code",
   "execution_count": 88,
   "metadata": {},
   "outputs": [],
   "source": [
    "#Get raw data\n",
    "mnist_train = MNIST(DOWNLOAD_PATH, \n",
    "                    train=True, \n",
    "                    download=True,\n",
    "                    transform = transforms.Compose([transforms.ToTensor()]))\n",
    "\n",
    "mnist_test = MNIST(DOWNLOAD_PATH, \n",
    "                   train=False, \n",
    "                   download=True,\n",
    "                   transform = transforms.Compose([transforms.ToTensor()]))"
   ]
  },
  {
   "cell_type": "code",
   "execution_count": 89,
   "metadata": {},
   "outputs": [],
   "source": [
    "#Filter to keep some power of 2 number of classes\n",
    "mnist_train = filter_dataset(mnist_train, 7)\n",
    "mnist_test = filter_dataset(mnist_test, 7)"
   ]
  },
  {
   "cell_type": "code",
   "execution_count": 90,
   "metadata": {
    "scrolled": false
   },
   "outputs": [
    {
     "name": "stdout",
     "output_type": "stream",
     "text": [
      "7 7 - seven\n",
      "3 3 - three\n",
      "2 2 - two\n"
     ]
    },
    {
     "data": {
      "image/png": "[encoded data removed]",
      "text/plain": [
       "<Figure size 432x288 with 1 Axes>"
      ]
     },
     "metadata": {
      "needs_background": "light"
     },
     "output_type": "display_data"
    },
    {
     "data": {
      "image/png": "[encoded data removed]",
      "text/plain": [
       "<Figure size 432x288 with 1 Axes>"
      ]
     },
     "metadata": {
      "needs_background": "light"
     },
     "output_type": "display_data"
    },
    {
     "data": {
      "image/png": "[encoded data removed]",
      "text/plain": [
       "<Figure size 432x288 with 1 Axes>"
      ]
     },
     "metadata": {
      "needs_background": "light"
     },
     "output_type": "display_data"
    }
   ],
   "source": [
    "plot_samples(mnist_train)"
   ]
  },
  {
   "cell_type": "code",
   "execution_count": 40,
   "metadata": {},
   "outputs": [
    {
     "name": "stdout",
     "output_type": "stream",
     "text": [
      "torch.Size([48200, 28, 28])\n",
      "(48200,)\n",
      "torch.Size([8017, 28, 28])\n",
      "(8017,)\n"
     ]
    }
   ],
   "source": [
    "#dimensions of data\n",
    "print(mnist_train.data.shape)\n",
    "print(mnist_train.targets.shape)\n",
    "\n",
    "print(mnist_test.data.shape)\n",
    "print(mnist_test.targets.shape)"
   ]
  },
  {
   "cell_type": "code",
   "execution_count": 45,
   "metadata": {},
   "outputs": [],
   "source": [
    "#create dataloaders for barches\n",
    "mnist_train_dataloader = create_dataloader(mnist_train, num_workers=8, batch_size=64)\n",
    "mnist_test_dataloader = create_dataloader(mnist_test, num_workers=8, batch_size=64)"
   ]
  },
  {
   "cell_type": "code",
   "execution_count": 46,
   "metadata": {},
   "outputs": [
    {
     "name": "stdout",
     "output_type": "stream",
     "text": [
      "torch.Size([64, 1, 28, 28])\n",
      "tensor([1, 7, 2, 3, 3, 4, 6, 1, 0, 1, 1, 5, 0, 1, 6, 6, 0, 3, 2, 3, 1, 6, 4, 1,\n",
      "        1, 2, 4, 5, 7, 2, 3, 3, 2, 1, 1, 4, 3, 1, 2, 2, 0, 4, 6, 0, 6, 4, 4, 4,\n",
      "        1, 7, 4, 7, 2, 7, 5, 2, 1, 7, 3, 5, 2, 5, 7, 4])\n",
      "Flattening: torch.Size([64, 784])\n"
     ]
    }
   ],
   "source": [
    "#one batch\n",
    "idx, (data_example, target_example) = next(enumerate(mnist_train_dataloader))\n",
    "print(data_example.shape)\n",
    "print(target_example)\n",
    "\n",
    "print(f\"Flattening: {Flatten()(data_example).shape}\")"
   ]
  },
  {
   "cell_type": "code",
   "execution_count": 47,
   "metadata": {},
   "outputs": [
    {
     "name": "stdout",
     "output_type": "stream",
     "text": [
      "Flattened Dimensions: 784\n",
      "N Unique Classes: 8\n",
      "Sequential(\n",
      "  (0): Flatten()\n",
      "  (1): Linear(in_features=784, out_features=100, bias=True)\n",
      "  (2): ReLU()\n",
      "  (3): Linear(in_features=100, out_features=8, bias=True)\n",
      ")\n"
     ]
    }
   ],
   "source": [
    "flattened_dimensions = np.prod(mnist_train.data[0].shape)\n",
    "n_unique_classes = len(np.unique(mnist_train.targets))\n",
    "\n",
    "net = nn.Sequential(Flatten(), \n",
    "                    nn.Linear(flattened_dimensions, 100),\n",
    "                    nn.ReLU(),\n",
    "                    nn.Linear(100, n_unique_classes),\n",
    "                   )\n",
    "\n",
    "criterion = nn.CrossEntropyLoss()\n",
    "optimizer = optim.Adam(net.parameters(), lr=1e-2)\n",
    "\n",
    "print(f\"Flattened Dimensions: {flattened_dimensions}\")\n",
    "print(f'N Unique Classes: {n_unique_classes}')\n",
    "print(net)"
   ]
  },
  {
   "cell_type": "code",
   "execution_count": 48,
   "metadata": {},
   "outputs": [
    {
     "name": "stdout",
     "output_type": "stream",
     "text": [
      "Epoch = 0 Loss = 0.1596080994317481\n",
      "Epoch = 5 Loss = 0.05248247175162475\n",
      "Epoch = 10 Loss = 0.04463418360891572\n",
      "Epoch = 15 Loss = 0.03230937896790452\n"
     ]
    }
   ],
   "source": [
    "N_epochs = 20\n",
    "net, loss_list = train_network(net, \n",
    "                               N_epochs, \n",
    "                               mnist_train_dataloader, \n",
    "                               criterion, \n",
    "                               optimizer)"
   ]
  },
  {
   "cell_type": "code",
   "execution_count": 49,
   "metadata": {},
   "outputs": [
    {
     "name": "stdout",
     "output_type": "stream",
     "text": [
      "Train\n",
      "Accuracy = 0.9940\n",
      "Test\n",
      "Accuracy = 0.9793\n"
     ]
    }
   ],
   "source": [
    "print(\"Train\")\n",
    "compute_accuracy(mnist_train_dataloader, net)\n",
    "\n",
    "print(\"Test\")\n",
    "compute_accuracy(mnist_test_dataloader, net)"
   ]
  },
  {
   "cell_type": "markdown",
   "metadata": {},
   "source": [
    "#### Save Model"
   ]
  },
  {
   "cell_type": "code",
   "execution_count": 94,
   "metadata": {},
   "outputs": [
    {
     "name": "stdout",
     "output_type": "stream",
     "text": [
      "Train\n",
      "Accuracy = 0.9940\n",
      "Test\n",
      "Accuracy = 0.9793\n"
     ]
    }
   ],
   "source": [
    "#torch.save(net.state_dict(), './softmax_mnist_epoch20_loss0.032.pkl')\n",
    "\n",
    "flattened_dimensions = np.prod(mnist_train.data[0].shape)\n",
    "n_unique_classes = len(np.unique(mnist_train.targets))\n",
    "\n",
    "net2 = nn.Sequential(Flatten(), \n",
    "                    nn.Linear(flattened_dimensions, 100),\n",
    "                    nn.ReLU(),\n",
    "                    nn.Linear(100, n_unique_classes),\n",
    "                   )\n",
    "net2.load_state_dict(torch.load('./softmax_mnist_epoch20_loss0.032.pkl'))\n",
    "net2.to(device)\n",
    "\n",
    "print(\"Train\")\n",
    "compute_accuracy(mnist_train_dataloader, net2)\n",
    "\n",
    "print(\"Test\")\n",
    "compute_accuracy(mnist_test_dataloader, net2)"
   ]
  },
  {
   "cell_type": "markdown",
   "metadata": {},
   "source": [
    "### FashionMNIST"
   ]
  },
  {
   "cell_type": "code",
   "execution_count": 5,
   "metadata": {},
   "outputs": [],
   "source": [
    "DOWNLOAD_PATH = \"/home/sanjay/BrnoMLWorkshop2019/BrnoTeaching2019/data/MNIST\""
   ]
  },
  {
   "cell_type": "code",
   "execution_count": 6,
   "metadata": {},
   "outputs": [],
   "source": [
    "fmnist_train = FashionMNIST(DOWNLOAD_PATH, \n",
    "                            train=True, \n",
    "                            download=True,\n",
    "                            transform = transforms.Compose([transforms.ToTensor()]))\n",
    "\n",
    "fmnist_test = FashionMNIST(DOWNLOAD_PATH, \n",
    "                           train=False, \n",
    "                           download=True,\n",
    "                           transform = transforms.Compose([transforms.ToTensor()]))"
   ]
  },
  {
   "cell_type": "code",
   "execution_count": 7,
   "metadata": {},
   "outputs": [],
   "source": [
    "fmnist_train = filter_dataset(fmnist_train, 7)\n",
    "fmnist_test = filter_dataset(fmnist_test, 7)"
   ]
  },
  {
   "cell_type": "code",
   "execution_count": 9,
   "metadata": {},
   "outputs": [
    {
     "name": "stdout",
     "output_type": "stream",
     "text": [
      "5 Sandal\n",
      "1 Trouser\n",
      "4 Coat\n"
     ]
    },
    {
     "data": {
      "image/png": "[encoded data removed]",
      "text/plain": [
       "<Figure size 432x288 with 1 Axes>"
      ]
     },
     "metadata": {
      "needs_background": "light"
     },
     "output_type": "display_data"
    },
    {
     "data": {
      "image/png": "[encoded data removed]",
      "text/plain": [
       "<Figure size 432x288 with 1 Axes>"
      ]
     },
     "metadata": {
      "needs_background": "light"
     },
     "output_type": "display_data"
    },
    {
     "data": {
      "image/png": "[encoded data removed]",
      "text/plain": [
       "<Figure size 432x288 with 1 Axes>"
      ]
     },
     "metadata": {
      "needs_background": "light"
     },
     "output_type": "display_data"
    }
   ],
   "source": [
    "plot_samples(fmnist_train, 3)"
   ]
  },
  {
   "cell_type": "code",
   "execution_count": 10,
   "metadata": {},
   "outputs": [
    {
     "name": "stdout",
     "output_type": "stream",
     "text": [
      "torch.Size([48000, 28, 28])\n",
      "(48000,)\n",
      "torch.Size([8000, 28, 28])\n",
      "(8000,)\n"
     ]
    }
   ],
   "source": [
    "print(fmnist_train.data.shape)\n",
    "print(fmnist_train.targets.shape)\n",
    "\n",
    "print(fmnist_test.data.shape)\n",
    "print(fmnist_test.targets.shape)"
   ]
  },
  {
   "cell_type": "code",
   "execution_count": 11,
   "metadata": {},
   "outputs": [],
   "source": [
    "fmnist_train_dataloader = create_dataloader(fmnist_train, num_workers=8, batch_size=128)\n",
    "fmnist_test_dataloader = create_dataloader(fmnist_test, num_workers=8, batch_size=128)"
   ]
  },
  {
   "cell_type": "code",
   "execution_count": 12,
   "metadata": {},
   "outputs": [
    {
     "name": "stdout",
     "output_type": "stream",
     "text": [
      "torch.Size([128, 1, 28, 28])\n",
      "tensor([0, 1, 2, 4, 2, 6, 3, 1, 1, 3, 2, 0, 4, 2, 0, 5, 7, 0, 7, 4, 5, 2, 4, 1,\n",
      "        1, 5, 4, 4, 1, 6, 5, 2, 4, 2, 0, 0, 3, 4, 7, 4, 2, 5, 5, 1, 1, 2, 6, 0,\n",
      "        7, 4, 5, 6, 3, 7, 7, 5, 6, 3, 1, 2, 5, 7, 7, 5, 5, 5, 0, 7, 1, 6, 0, 4,\n",
      "        7, 0, 6, 3, 3, 1, 6, 2, 5, 1, 0, 5, 7, 1, 1, 2, 7, 3, 6, 4, 3, 6, 6, 6,\n",
      "        0, 5, 0, 6, 4, 3, 6, 2, 2, 4, 3, 6, 5, 2, 2, 0, 6, 7, 1, 3, 0, 1, 6, 4,\n",
      "        7, 1, 0, 2, 3, 0, 0, 3])\n",
      "Flattening: torch.Size([128, 784])\n"
     ]
    }
   ],
   "source": [
    "#one batch\n",
    "idx, (data_example, target_example) = next(enumerate(fmnist_train_dataloader))\n",
    "print(data_example.shape)\n",
    "print(target_example)\n",
    "\n",
    "print(f\"Flattening: {Flatten()(data_example).shape}\")"
   ]
  },
  {
   "cell_type": "code",
   "execution_count": 19,
   "metadata": {},
   "outputs": [
    {
     "name": "stdout",
     "output_type": "stream",
     "text": [
      "Flattened Dimensions: 784\n",
      "N Unique Classes: 8\n",
      "Sequential(\n",
      "  (0): Conv2d(1, 96, kernel_size=(3, 3), stride=(1, 1))\n",
      "  (1): ReLU()\n",
      "  (2): Dropout(p=0.5, inplace=False)\n",
      "  (3): Conv2d(96, 96, kernel_size=(3, 3), stride=(1, 1))\n",
      "  (4): ReLU()\n",
      "  (5): Dropout(p=0.5, inplace=False)\n",
      "  (6): Conv2d(96, 96, kernel_size=(3, 3), stride=(2, 2))\n",
      "  (7): ReLU()\n",
      "  (8): Dropout(p=0.5, inplace=False)\n",
      "  (9): Conv2d(96, 192, kernel_size=(3, 3), stride=(1, 1))\n",
      "  (10): ReLU()\n",
      "  (11): Dropout(p=0.5, inplace=False)\n",
      "  (12): Conv2d(192, 192, kernel_size=(3, 3), stride=(1, 1))\n",
      "  (13): ReLU()\n",
      "  (14): Dropout(p=0.5, inplace=False)\n",
      "  (15): Conv2d(192, 192, kernel_size=(3, 3), stride=(2, 2))\n",
      "  (16): ReLU()\n",
      "  (17): Dropout(p=0.5, inplace=False)\n",
      "  (18): Flatten()\n",
      "  (19): Linear(in_features=1728, out_features=8, bias=True)\n",
      ")\n"
     ]
    }
   ],
   "source": [
    "flattened_dimensions = np.prod(fmnist_train.data[0].shape)\n",
    "n_unique_classes = len(np.unique(fmnist_train.targets))\n",
    "\n",
    "net = nn.Sequential(nn.Conv2d(1, 96, (3,3)),\n",
    "                    nn.ReLU(),\n",
    "                    nn.Dropout(0.5),\n",
    "                    \n",
    "                    nn.Conv2d(96, 96, (3,3)),\n",
    "                    nn.ReLU(),      \n",
    "                    nn.Dropout(0.5),\n",
    "                    \n",
    "                    nn.Conv2d(96, 96, (3,3), stride=2),                    \n",
    "                    nn.ReLU(),\n",
    "                    nn.Dropout(0.5),\n",
    "                    \n",
    "                    nn.Conv2d(96, 192, (3,3)),\n",
    "                    nn.ReLU(),      \n",
    "                    nn.Dropout(0.5),\n",
    "\n",
    "                    nn.Conv2d(192, 192, (3,3)),\n",
    "                    nn.ReLU(),      \n",
    "                    nn.Dropout(0.5),\n",
    "                    \n",
    "                    nn.Conv2d(192, 192, (3,3), stride=2),\n",
    "                    nn.ReLU(),      \n",
    "                    nn.Dropout(0.5),\n",
    "                    \n",
    "                    Flatten(),\n",
    "                    nn.Linear(1728, n_unique_classes),\n",
    "                   )\n",
    "\n",
    "#net = nn.Sequential(Flatten(), \n",
    "#                    nn.Linear(flattened_dimensions, 100),\n",
    "#                    nn.ReLU(),\n",
    "#                    nn.Linear(100, n_unique_classes),\n",
    "#                   )\n",
    "\n",
    "criterion = nn.CrossEntropyLoss()\n",
    "optimizer = optim.Adam(net.parameters(), lr=1e-4)\n",
    "\n",
    "print(f\"Flattened Dimensions: {flattened_dimensions}\")\n",
    "print(f'N Unique Classes: {n_unique_classes}')\n",
    "print(net)"
   ]
  },
  {
   "cell_type": "code",
   "execution_count": 21,
   "metadata": {},
   "outputs": [
    {
     "name": "stdout",
     "output_type": "stream",
     "text": [
      "Epoch = 0 Loss = 0.7384399970372518\n",
      "Epoch = 5 Loss = 0.46947388887405395\n",
      "Epoch = 10 Loss = 0.3913606618642807\n",
      "Epoch = 15 Loss = 0.348474599758784\n",
      "Epoch = 20 Loss = 0.31743119140466053\n",
      "Epoch = 25 Loss = 0.2937150587240855\n",
      "Epoch = 30 Loss = 0.2756553853750229\n",
      "Epoch = 35 Loss = 0.2622337094942729\n",
      "Epoch = 40 Loss = 0.2505190439224243\n",
      "Epoch = 45 Loss = 0.23806978489955266\n",
      "Epoch = 50 Loss = 0.2308765326142311\n",
      "Epoch = 55 Loss = 0.2238030779361725\n",
      "Epoch = 60 Loss = 0.21411466697851816\n",
      "Epoch = 65 Loss = 0.20835373562574386\n",
      "Epoch = 70 Loss = 0.19868405936161676\n",
      "Epoch = 75 Loss = 0.19371261819203694\n",
      "Epoch = 80 Loss = 0.18769448337952296\n",
      "Epoch = 85 Loss = 0.18097124403715134\n",
      "Epoch = 90 Loss = 0.17794790190458298\n",
      "Epoch = 95 Loss = 0.17290807966391245\n",
      "Epoch = 100 Loss = 0.16849607997139296\n",
      "Epoch = 105 Loss = 0.1664237975378831\n",
      "Epoch = 110 Loss = 0.1607591983874639\n",
      "Epoch = 115 Loss = 0.15808990199367207\n",
      "Epoch = 120 Loss = 0.15156330054004988\n",
      "Epoch = 125 Loss = 0.15054064713915188\n",
      "Epoch = 130 Loss = 0.14618883882959685\n",
      "Epoch = 135 Loss = 0.14502332577109336\n",
      "Epoch = 140 Loss = 0.13984117886424063\n",
      "Epoch = 145 Loss = 0.1401845072309176\n",
      "Epoch = 150 Loss = 0.1362959291835626\n",
      "Epoch = 155 Loss = 0.13275969913601876\n",
      "Epoch = 160 Loss = 0.13102298338214557\n",
      "Epoch = 165 Loss = 0.13105461825927098\n",
      "Epoch = 170 Loss = 0.13060708926121395\n",
      "Epoch = 175 Loss = 0.12677389082312585\n",
      "Epoch = 180 Loss = 0.12450413247942925\n",
      "Epoch = 185 Loss = 0.11933114217718442\n",
      "Epoch = 190 Loss = 0.12043451817830404\n",
      "Epoch = 195 Loss = 0.12190509188175201\n",
      "Epoch = 200 Loss = 0.1180870989561081\n",
      "Epoch = 205 Loss = 0.11471723974247773\n",
      "Epoch = 210 Loss = 0.11302991051475207\n",
      "Epoch = 215 Loss = 0.11557155296206474\n",
      "Epoch = 220 Loss = 0.11439174569646518\n",
      "Epoch = 225 Loss = 0.11170093414187432\n",
      "Epoch = 230 Loss = 0.10940309008955955\n",
      "Epoch = 235 Loss = 0.10910449276367823\n",
      "Epoch = 240 Loss = 0.1052511622607708\n",
      "Epoch = 245 Loss = 0.1062020736336708\n",
      "Epoch = 250 Loss = 0.10385775781671207\n",
      "Epoch = 255 Loss = 0.10482817809283733\n",
      "Epoch = 260 Loss = 0.10168594289819399\n",
      "Epoch = 265 Loss = 0.1023390272607406\n",
      "Epoch = 270 Loss = 0.10288382968803247\n",
      "Epoch = 275 Loss = 0.09712394712368647\n",
      "Epoch = 280 Loss = 0.10014834023018677\n",
      "Epoch = 285 Loss = 0.09832116705179214\n",
      "Epoch = 290 Loss = 0.09497251147031784\n",
      "Epoch = 295 Loss = 0.09727555953214566\n",
      "Epoch = 300 Loss = 0.09342297283063332\n",
      "Epoch = 305 Loss = 0.09412566474080086\n",
      "Epoch = 310 Loss = 0.09081315227846305\n",
      "Epoch = 315 Loss = 0.09326210622986157\n",
      "Epoch = 320 Loss = 0.09138897321621577\n",
      "Epoch = 325 Loss = 0.08977161007126172\n",
      "Epoch = 330 Loss = 0.09241768022874991\n",
      "Epoch = 335 Loss = 0.09210565020143986\n",
      "Epoch = 340 Loss = 0.08786652993659179\n",
      "Epoch = 345 Loss = 0.09072720791896184\n",
      "Epoch = 350 Loss = 0.08835163954893747\n",
      "Epoch = 355 Loss = 0.08781849843760331\n",
      "Epoch = 360 Loss = 0.08905470257997512\n",
      "Epoch = 365 Loss = 0.08410567809144656\n",
      "Epoch = 370 Loss = 0.08392976679901282\n",
      "Epoch = 375 Loss = 0.08589984867473444\n",
      "Epoch = 380 Loss = 0.08436593805253506\n",
      "Epoch = 385 Loss = 0.08386840568979581\n",
      "Epoch = 390 Loss = 0.08371462546288967\n",
      "Epoch = 395 Loss = 0.08160546521345774\n",
      "Epoch = 400 Loss = 0.08333407184481621\n",
      "Epoch = 405 Loss = 0.0814282584041357\n",
      "Epoch = 410 Loss = 0.08444871118664742\n",
      "Epoch = 415 Loss = 0.0825452212691307\n",
      "Epoch = 420 Loss = 0.08325426554679871\n",
      "Epoch = 425 Loss = 0.08197962009410063\n",
      "Epoch = 430 Loss = 0.07989087585608165\n",
      "Epoch = 435 Loss = 0.07934998083611329\n",
      "Epoch = 440 Loss = 0.08192630319794018\n",
      "Epoch = 445 Loss = 0.07954902527729671\n",
      "Epoch = 450 Loss = 0.07940171137203773\n",
      "Epoch = 455 Loss = 0.078707999676466\n",
      "Epoch = 460 Loss = 0.07594772161419193\n",
      "Epoch = 465 Loss = 0.07784635701278846\n",
      "Epoch = 470 Loss = 0.07784475856522718\n",
      "Epoch = 475 Loss = 0.07473033382743598\n",
      "Epoch = 480 Loss = 0.07767898296813171\n",
      "Epoch = 485 Loss = 0.07960238302747409\n",
      "Epoch = 490 Loss = 0.07606497244288524\n",
      "Epoch = 495 Loss = 0.07591386502981186\n",
      "Epoch = 500 Loss = 0.07430748917907476\n",
      "Epoch = 505 Loss = 0.07393370075523853\n",
      "Epoch = 510 Loss = 0.07287966535737117\n",
      "Epoch = 515 Loss = 0.07496602734923363\n",
      "Epoch = 520 Loss = 0.07472520596782366\n",
      "Epoch = 525 Loss = 0.07144465563197931\n",
      "Epoch = 530 Loss = 0.07311749361952145\n",
      "Epoch = 535 Loss = 0.07411243217190107\n",
      "Epoch = 540 Loss = 0.07332981091241042\n",
      "Epoch = 545 Loss = 0.0730190655340751\n",
      "Epoch = 550 Loss = 0.07270209880421559\n",
      "Epoch = 555 Loss = 0.07181728152682385\n",
      "Epoch = 560 Loss = 0.07126642127335071\n",
      "Epoch = 565 Loss = 0.07113859225312869\n",
      "Epoch = 570 Loss = 0.07053452116747697\n",
      "Epoch = 575 Loss = 0.07057723823189735\n",
      "Epoch = 580 Loss = 0.06826777724052469\n",
      "Epoch = 585 Loss = 0.06953898133585851\n",
      "Epoch = 590 Loss = 0.07137575319161017\n",
      "Epoch = 595 Loss = 0.06861351925631365\n",
      "Epoch = 600 Loss = 0.07049893204619487\n",
      "Epoch = 605 Loss = 0.07032760607202848\n",
      "Epoch = 610 Loss = 0.06895475585013627\n",
      "Epoch = 615 Loss = 0.06806192364295324\n",
      "Epoch = 620 Loss = 0.06806100505093733\n",
      "Epoch = 625 Loss = 0.06703654221445322\n",
      "Epoch = 630 Loss = 0.06916513457894326\n",
      "Epoch = 635 Loss = 0.06807562843461831\n",
      "Epoch = 640 Loss = 0.06646504472568632\n",
      "Epoch = 645 Loss = 0.067731473830839\n",
      "Epoch = 650 Loss = 0.06624528838942448\n",
      "Epoch = 655 Loss = 0.06759862456470728\n",
      "Epoch = 660 Loss = 0.06983696612715722\n",
      "Epoch = 665 Loss = 0.06775090583165487\n",
      "Epoch = 670 Loss = 0.06439921806504328\n",
      "Epoch = 675 Loss = 0.06443340380738179\n",
      "Epoch = 680 Loss = 0.06699778273453315\n",
      "Epoch = 685 Loss = 0.06688302468011777\n",
      "Epoch = 690 Loss = 0.06522261708974839\n",
      "Epoch = 695 Loss = 0.06708013263220589\n",
      "Epoch = 700 Loss = 0.06408787666757902\n",
      "Epoch = 705 Loss = 0.066292684674263\n",
      "Epoch = 710 Loss = 0.06570203978319963\n",
      "Epoch = 715 Loss = 0.06525836638112863\n",
      "Epoch = 720 Loss = 0.06382293598229687\n",
      "Epoch = 725 Loss = 0.06587970481192072\n",
      "Epoch = 730 Loss = 0.0641149453346928\n",
      "Epoch = 735 Loss = 0.06274743857979774\n",
      "Epoch = 740 Loss = 0.06150413411855698\n",
      "Epoch = 745 Loss = 0.0646027357528607\n",
      "Epoch = 750 Loss = 0.06056974332779646\n",
      "Epoch = 755 Loss = 0.06432814063876867\n",
      "Epoch = 760 Loss = 0.0636711641351382\n",
      "Epoch = 765 Loss = 0.06347515862435102\n",
      "Epoch = 770 Loss = 0.062247023644546665\n",
      "Epoch = 775 Loss = 0.06337353981286287\n",
      "Epoch = 780 Loss = 0.06034595079223315\n",
      "Epoch = 785 Loss = 0.06369660593072574\n",
      "Epoch = 790 Loss = 0.05996703140685956\n",
      "Epoch = 795 Loss = 0.0631048751026392\n",
      "Epoch = 800 Loss = 0.0629181797131896\n",
      "Epoch = 805 Loss = 0.0630828751611213\n",
      "Epoch = 810 Loss = 0.06196291048328082\n",
      "Epoch = 815 Loss = 0.06284456177055836\n",
      "Epoch = 820 Loss = 0.0597755854887267\n",
      "Epoch = 825 Loss = 0.060954540751874446\n",
      "Epoch = 830 Loss = 0.05856763240198294\n",
      "Epoch = 835 Loss = 0.06082058385014534\n",
      "Epoch = 840 Loss = 0.06003199413667123\n",
      "Epoch = 845 Loss = 0.059360823906958106\n",
      "Epoch = 850 Loss = 0.0639352933888634\n",
      "Epoch = 855 Loss = 0.061631685255716245\n",
      "Epoch = 860 Loss = 0.061759978442142406\n",
      "Epoch = 865 Loss = 0.060352185271680354\n",
      "Epoch = 870 Loss = 0.060043039167920746\n",
      "Epoch = 875 Loss = 0.059640479740997156\n",
      "Epoch = 880 Loss = 0.06159843235711256\n",
      "Epoch = 885 Loss = 0.06161050330474973\n",
      "Epoch = 890 Loss = 0.058935977722207704\n",
      "Epoch = 895 Loss = 0.05997450162221988\n",
      "Epoch = 900 Loss = 0.05895977007597685\n",
      "Epoch = 905 Loss = 0.05758568998426199\n",
      "Epoch = 910 Loss = 0.06090952580918868\n",
      "Epoch = 915 Loss = 0.05821692942579587\n",
      "Epoch = 920 Loss = 0.057769752343495684\n",
      "Epoch = 925 Loss = 0.059108642975489296\n",
      "Epoch = 930 Loss = 0.0605714203119278\n",
      "Epoch = 935 Loss = 0.05907709634304047\n",
      "Epoch = 940 Loss = 0.05832710916052262\n",
      "Epoch = 945 Loss = 0.060285225119441746\n",
      "Epoch = 950 Loss = 0.057398917061587174\n",
      "Epoch = 955 Loss = 0.05932368134334683\n",
      "Epoch = 960 Loss = 0.057504114616662265\n",
      "Epoch = 965 Loss = 0.05795564466590682\n",
      "Epoch = 970 Loss = 0.05989966248969237\n",
      "Epoch = 975 Loss = 0.058769197122504314\n",
      "Epoch = 980 Loss = 0.059733348799248534\n",
      "Epoch = 985 Loss = 0.05735027442872524\n",
      "Epoch = 990 Loss = 0.05764536348792414\n",
      "Epoch = 995 Loss = 0.05641328819344441\n"
     ]
    }
   ],
   "source": [
    "N_epochs = 1000 #2000\n",
    "net, loss_list = train_network(net, \n",
    "                               N_epochs, \n",
    "                               fmnist_train_dataloader, \n",
    "                               criterion, \n",
    "                               optimizer)"
   ]
  },
  {
   "cell_type": "code",
   "execution_count": 25,
   "metadata": {},
   "outputs": [
    {
     "name": "stdout",
     "output_type": "stream",
     "text": [
      "Train\n",
      "Accuracy = 1.0000\n",
      "Test\n",
      "Accuracy = 0.9266\n"
     ]
    }
   ],
   "source": [
    "print(\"Train\")\n",
    "compute_accuracy(fmnist_train_dataloader, net)\n",
    "\n",
    "print(\"Test\")\n",
    "compute_accuracy(fmnist_test_dataloader, net)"
   ]
  },
  {
   "cell_type": "markdown",
   "metadata": {},
   "source": [
    "#### Save Model"
   ]
  },
  {
   "cell_type": "code",
   "execution_count": 41,
   "metadata": {},
   "outputs": [],
   "source": [
    "#torch.save(net.state_dict(), './softmax_fmnist_epoch1000_loss0.056.pkl')"
   ]
  },
  {
   "cell_type": "code",
   "execution_count": 95,
   "metadata": {},
   "outputs": [
    {
     "data": {
      "text/plain": [
       "Sequential(\n",
       "  (0): Conv2d(1, 96, kernel_size=(3, 3), stride=(1, 1))\n",
       "  (1): ReLU()\n",
       "  (2): Dropout(p=0.5, inplace=False)\n",
       "  (3): Conv2d(96, 96, kernel_size=(3, 3), stride=(1, 1))\n",
       "  (4): ReLU()\n",
       "  (5): Dropout(p=0.5, inplace=False)\n",
       "  (6): Conv2d(96, 96, kernel_size=(3, 3), stride=(2, 2))\n",
       "  (7): ReLU()\n",
       "  (8): Dropout(p=0.5, inplace=False)\n",
       "  (9): Conv2d(96, 192, kernel_size=(3, 3), stride=(1, 1))\n",
       "  (10): ReLU()\n",
       "  (11): Dropout(p=0.5, inplace=False)\n",
       "  (12): Conv2d(192, 192, kernel_size=(3, 3), stride=(1, 1))\n",
       "  (13): ReLU()\n",
       "  (14): Dropout(p=0.5, inplace=False)\n",
       "  (15): Conv2d(192, 192, kernel_size=(3, 3), stride=(2, 2))\n",
       "  (16): ReLU()\n",
       "  (17): Dropout(p=0.5, inplace=False)\n",
       "  (18): Flatten()\n",
       "  (19): Linear(in_features=1728, out_features=8, bias=True)\n",
       ")"
      ]
     },
     "execution_count": 95,
     "metadata": {},
     "output_type": "execute_result"
    }
   ],
   "source": [
    "flattened_dimensions = np.prod(fmnist_train.data[0].shape)\n",
    "n_unique_classes = len(np.unique(fmnist_train.targets))\n",
    "\n",
    "net2 = nn.Sequential(nn.Conv2d(1, 96, (3,3)),\n",
    "                    nn.ReLU(),\n",
    "                    nn.Dropout(0.5),\n",
    "                    \n",
    "                    nn.Conv2d(96, 96, (3,3)),\n",
    "                    nn.ReLU(),      \n",
    "                    nn.Dropout(0.5),\n",
    "                    \n",
    "                    nn.Conv2d(96, 96, (3,3), stride=2),                    \n",
    "                    nn.ReLU(),\n",
    "                    nn.Dropout(0.5),\n",
    "                    \n",
    "                    nn.Conv2d(96, 192, (3,3)),\n",
    "                    nn.ReLU(),      \n",
    "                    nn.Dropout(0.5),\n",
    "\n",
    "                    nn.Conv2d(192, 192, (3,3)),\n",
    "                    nn.ReLU(),      \n",
    "                    nn.Dropout(0.5),\n",
    "                    \n",
    "                    nn.Conv2d(192, 192, (3,3), stride=2),\n",
    "                    nn.ReLU(),      \n",
    "                    nn.Dropout(0.5),\n",
    "                    \n",
    "                    Flatten(),\n",
    "                    nn.Linear(1728, n_unique_classes),\n",
    "                   )\n",
    "net2.load_state_dict(torch.load('./softmax_fmnist_epoch1000_loss0.056.pkl'))\n",
    "net2.to(device)"
   ]
  },
  {
   "cell_type": "code",
   "execution_count": 96,
   "metadata": {},
   "outputs": [
    {
     "name": "stdout",
     "output_type": "stream",
     "text": [
      "Train\n",
      "Accuracy = 1.0000\n",
      "Test\n",
      "Accuracy = 0.9266\n"
     ]
    }
   ],
   "source": [
    "print(\"Train\")\n",
    "compute_accuracy(fmnist_train_dataloader, net2)\n",
    "\n",
    "print(\"Test\")\n",
    "compute_accuracy(fmnist_test_dataloader, net2)"
   ]
  },
  {
   "cell_type": "markdown",
   "metadata": {},
   "source": [
    "## Experiment 2:  Bit vectors"
   ]
  },
  {
   "cell_type": "markdown",
   "metadata": {},
   "source": [
    "### MNIST"
   ]
  },
  {
   "cell_type": "code",
   "execution_count": 97,
   "metadata": {},
   "outputs": [],
   "source": [
    "DOWNLOAD_PATH = \"/home/sanjay/BrnoMLWorkshop2019/BrnoTeaching2019/data/MNIST\""
   ]
  },
  {
   "cell_type": "code",
   "execution_count": 98,
   "metadata": {},
   "outputs": [],
   "source": [
    "#Get raw data\n",
    "mnist_train = MNIST(DOWNLOAD_PATH, \n",
    "                    train=True, \n",
    "                    download=True,\n",
    "                    transform = transforms.Compose([transforms.ToTensor()]))\n",
    "\n",
    "mnist_test = MNIST(DOWNLOAD_PATH, \n",
    "                   train=False, \n",
    "                   download=True,\n",
    "                   transform = transforms.Compose([transforms.ToTensor()]))"
   ]
  },
  {
   "cell_type": "code",
   "execution_count": 99,
   "metadata": {},
   "outputs": [],
   "source": [
    "#Filter to keep some power of 2 number of classes\n",
    "mnist_train = filter_dataset(mnist_train, 7)\n",
    "mnist_test = filter_dataset(mnist_test, 7)"
   ]
  },
  {
   "cell_type": "code",
   "execution_count": 100,
   "metadata": {},
   "outputs": [
    {
     "name": "stdout",
     "output_type": "stream",
     "text": [
      "1 1 - one\n",
      "7 7 - seven\n",
      "7 7 - seven\n"
     ]
    },
    {
     "data": {
      "image/png": "[encoded data removed]",
      "text/plain": [
       "<Figure size 432x288 with 1 Axes>"
      ]
     },
     "metadata": {
      "needs_background": "light"
     },
     "output_type": "display_data"
    },
    {
     "data": {
      "image/png": "[encoded data removed]",
      "text/plain": [
       "<Figure size 432x288 with 1 Axes>"
      ]
     },
     "metadata": {
      "needs_background": "light"
     },
     "output_type": "display_data"
    },
    {
     "data": {
      "image/png": "[encoded data removed]",
      "text/plain": [
       "<Figure size 432x288 with 1 Axes>"
      ]
     },
     "metadata": {
      "needs_background": "light"
     },
     "output_type": "display_data"
    }
   ],
   "source": [
    "plot_samples(mnist_train)"
   ]
  },
  {
   "cell_type": "code",
   "execution_count": 101,
   "metadata": {},
   "outputs": [
    {
     "name": "stdout",
     "output_type": "stream",
     "text": [
      "torch.Size([48200, 28, 28])\n",
      "(48200,)\n",
      "torch.Size([8017, 28, 28])\n",
      "(8017,)\n"
     ]
    }
   ],
   "source": [
    "#dimensions of data\n",
    "print(mnist_train.data.shape)\n",
    "print(mnist_train.targets.shape)\n",
    "\n",
    "print(mnist_test.data.shape)\n",
    "print(mnist_test.targets.shape)"
   ]
  },
  {
   "cell_type": "code",
   "execution_count": 102,
   "metadata": {},
   "outputs": [],
   "source": [
    "#create dataloaders for barches\n",
    "mnist_train_dataloader = create_dataloader(mnist_train, num_workers=8, batch_size=64)\n",
    "mnist_test_dataloader = create_dataloader(mnist_test, num_workers=8, batch_size=64)"
   ]
  },
  {
   "cell_type": "code",
   "execution_count": 103,
   "metadata": {},
   "outputs": [
    {
     "name": "stdout",
     "output_type": "stream",
     "text": [
      "torch.Size([64, 1, 28, 28])\n",
      "tensor([2, 7, 2, 0, 7, 6, 1, 1, 3, 1, 6, 7, 2, 2, 3, 7, 6, 3, 3, 0, 2, 1, 1, 3,\n",
      "        0, 0, 4, 2, 4, 0, 7, 1, 2, 0, 0, 0, 2, 2, 6, 1, 5, 3, 3, 7, 7, 1, 7, 6,\n",
      "        5, 4, 3, 4, 2, 3, 1, 0, 7, 4, 0, 2, 4, 3, 0, 1])\n",
      "Flattening: torch.Size([64, 784])\n"
     ]
    }
   ],
   "source": [
    "#one batch\n",
    "idx, (data_example, target_example) = next(enumerate(mnist_train_dataloader))\n",
    "print(data_example.shape)\n",
    "print(target_example)\n",
    "print(f\"Flattening: {Flatten()(data_example).shape}\")"
   ]
  },
  {
   "cell_type": "code",
   "execution_count": 104,
   "metadata": {},
   "outputs": [
    {
     "name": "stdout",
     "output_type": "stream",
     "text": [
      "Flattened Dimensions: 784\n",
      "N Unique Classes: 3\n",
      "Loss Criterion = BCEWithLogitsLoss()\n",
      "Sequential(\n",
      "  (0): Flatten()\n",
      "  (1): Linear(in_features=784, out_features=100, bias=True)\n",
      "  (2): ReLU()\n",
      "  (3): Linear(in_features=100, out_features=3, bias=True)\n",
      ")\n"
     ]
    }
   ],
   "source": [
    "flattened_dimensions = np.prod(mnist_train.data[0].shape)\n",
    "n_unique_classes = int(np.log2(len(np.unique(mnist_train.targets)))) #CHANGE\n",
    "\n",
    "net = nn.Sequential(Flatten(), \n",
    "                    nn.Linear(flattened_dimensions, 100),\n",
    "                    nn.ReLU(),\n",
    "                    nn.Linear(100, n_unique_classes),\n",
    "                   )\n",
    "\n",
    "criterion = nn.BCEWithLogitsLoss()\n",
    "optimizer = optim.Adam(net.parameters(), lr=1e-2)\n",
    "\n",
    "print(f\"Flattened Dimensions: {flattened_dimensions}\")\n",
    "print(f'N Unique Classes: {n_unique_classes}')\n",
    "print(f'Loss Criterion = {criterion}')\n",
    "print(net)"
   ]
  },
  {
   "cell_type": "code",
   "execution_count": 105,
   "metadata": {},
   "outputs": [
    {
     "name": "stdout",
     "output_type": "stream",
     "text": [
      "tensor([[ 0.1662, -0.0190,  0.2225],\n",
      "        [ 0.0940,  0.0043,  0.0564],\n",
      "        [ 0.2298, -0.0191,  0.0947],\n",
      "        [ 0.1138, -0.0195,  0.0964],\n",
      "        [ 0.2533, -0.1064,  0.0684]], device='cuda:0', grad_fn=<AddmmBackward>)\n"
     ]
    }
   ],
   "source": [
    "#some checks\n",
    "net.to(device)\n",
    "\n",
    "idx, (data_example, data_target) = next(enumerate(mnist_train_dataloader))\n",
    "data_example = data_example.to(device)\n",
    "data_target = data_target.to(device)\n",
    "\n",
    "pred = net(data_example[0:5])\n",
    "print(pred)"
   ]
  },
  {
   "cell_type": "code",
   "execution_count": 106,
   "metadata": {},
   "outputs": [],
   "source": [
    "def convert_to_binary(labels):\n",
    "    '''Convert base 10 int to binary representation\n",
    "    '''\n",
    "\n",
    "    binrep = []\n",
    "    for d in labels:\n",
    "        rep = []\n",
    "        for i in np.binary_repr(d, width=3):\n",
    "            rep.append(int(i))\n",
    "        binrep.append(rep)\n",
    "    binrep = torch.Tensor(binrep).float().to(device)\n",
    "    \n",
    "    return binrep\n",
    "\n",
    "def convert_to_decimal(binrep):\n",
    "    '''Convert binary representation to base 10 int\n",
    "    '''\n",
    "    labels = []\n",
    "    for d in binrep:\n",
    "        labels.append(int(\"\".join([str(int(i)) for i in d]), base=2))\n",
    "    return labels"
   ]
  },
  {
   "cell_type": "code",
   "execution_count": 107,
   "metadata": {},
   "outputs": [
    {
     "name": "stdout",
     "output_type": "stream",
     "text": [
      "tensor([2, 4, 0, 5, 6], device='cuda:0')\n",
      "tensor([[0., 1., 0.],\n",
      "        [1., 0., 0.],\n",
      "        [0., 0., 0.],\n",
      "        [1., 0., 1.],\n",
      "        [1., 1., 0.]], device='cuda:0')\n",
      "tensor([2, 4, 0, 5, 6], device='cuda:0')\n",
      "[2, 4, 0, 5, 6]\n"
     ]
    }
   ],
   "source": [
    "#some checks\n",
    "binrep = convert_to_binary(data_target[0:5])\n",
    "print(data_target[0:5])\n",
    "print(binrep)\n",
    "\n",
    "print(data_target[0:5])\n",
    "print(convert_to_decimal(binrep.to('cpu')))"
   ]
  },
  {
   "cell_type": "code",
   "execution_count": 108,
   "metadata": {},
   "outputs": [],
   "source": [
    "t = nn.Sigmoid()(pred)"
   ]
  },
  {
   "cell_type": "code",
   "execution_count": 109,
   "metadata": {},
   "outputs": [
    {
     "data": {
      "text/plain": [
       "tensor([[1, 0, 1],\n",
       "        [1, 1, 1],\n",
       "        [1, 0, 1],\n",
       "        [1, 0, 1],\n",
       "        [1, 0, 1]], device='cuda:0', dtype=torch.int32)"
      ]
     },
     "execution_count": 109,
     "metadata": {},
     "output_type": "execute_result"
    }
   ],
   "source": [
    "(t > 0.5).int()"
   ]
  },
  {
   "cell_type": "code",
   "execution_count": 110,
   "metadata": {},
   "outputs": [
    {
     "name": "stdout",
     "output_type": "stream",
     "text": [
      "Epoch = 0 Loss = 0.08529392652094997\n",
      "Epoch = 5 Loss = 0.020167405293744892\n",
      "Epoch = 10 Loss = 0.013180100353031894\n",
      "Epoch = 15 Loss = 0.010419923057955414\n"
     ]
    }
   ],
   "source": [
    "N_epochs = 20\n",
    "net, loss_list = train_network(net, \n",
    "                               N_epochs, \n",
    "                               mnist_train_dataloader, \n",
    "                               criterion, \n",
    "                               optimizer,\n",
    "                               preprocess_target=convert_to_binary)"
   ]
  },
  {
   "cell_type": "code",
   "execution_count": 112,
   "metadata": {},
   "outputs": [
    {
     "name": "stdout",
     "output_type": "stream",
     "text": [
      "Train\n",
      "Accuracy = 0.9913\n",
      "Test\n",
      "Accuracy = 0.9721\n"
     ]
    }
   ],
   "source": [
    "sig = nn.Sigmoid()\n",
    "process_pred = lambda x: torch.Tensor(convert_to_decimal((sig(x) >= 0.5).int()))\n",
    "\n",
    "print(\"Train\")\n",
    "compute_accuracy(mnist_train_dataloader, net, process_pred=process_pred)\n",
    "\n",
    "print(\"Test\")\n",
    "compute_accuracy(mnist_test_dataloader, net, process_pred=process_pred)"
   ]
  },
  {
   "cell_type": "markdown",
   "metadata": {},
   "source": [
    "### Fashion MNIST"
   ]
  },
  {
   "cell_type": "code",
   "execution_count": 113,
   "metadata": {},
   "outputs": [],
   "source": [
    "DOWNLOAD_PATH = \"/home/sanjay/BrnoMLWorkshop2019/BrnoTeaching2019/data/MNIST\""
   ]
  },
  {
   "cell_type": "code",
   "execution_count": 114,
   "metadata": {},
   "outputs": [],
   "source": [
    "fmnist_train = FashionMNIST(DOWNLOAD_PATH, \n",
    "                            train=True, \n",
    "                            download=True,\n",
    "                            transform = transforms.Compose([transforms.ToTensor()]))\n",
    "\n",
    "fmnist_test = FashionMNIST(DOWNLOAD_PATH, \n",
    "                           train=False, \n",
    "                           download=True,\n",
    "                           transform = transforms.Compose([transforms.ToTensor()]))"
   ]
  },
  {
   "cell_type": "code",
   "execution_count": 115,
   "metadata": {},
   "outputs": [],
   "source": [
    "fmnist_train = filter_dataset(fmnist_train, 7)\n",
    "fmnist_test = filter_dataset(fmnist_test, 7)"
   ]
  },
  {
   "cell_type": "code",
   "execution_count": 116,
   "metadata": {},
   "outputs": [
    {
     "name": "stdout",
     "output_type": "stream",
     "text": [
      "7 Sneaker\n",
      "2 Pullover\n",
      "5 Sandal\n"
     ]
    },
    {
     "data": {
      "image/png": "[encoded data removed]",
      "text/plain": [
       "<Figure size 432x288 with 1 Axes>"
      ]
     },
     "metadata": {
      "needs_background": "light"
     },
     "output_type": "display_data"
    },
    {
     "data": {
      "image/png": "[encoded data removed]",
      "text/plain": [
       "<Figure size 432x288 with 1 Axes>"
      ]
     },
     "metadata": {
      "needs_background": "light"
     },
     "output_type": "display_data"
    },
    {
     "data": {
      "image/png": "[encoded data removed]",
      "text/plain": [
       "<Figure size 432x288 with 1 Axes>"
      ]
     },
     "metadata": {
      "needs_background": "light"
     },
     "output_type": "display_data"
    }
   ],
   "source": [
    "plot_samples(fmnist_train, 3)"
   ]
  },
  {
   "cell_type": "code",
   "execution_count": 117,
   "metadata": {},
   "outputs": [
    {
     "name": "stdout",
     "output_type": "stream",
     "text": [
      "torch.Size([48000, 28, 28])\n",
      "(48000,)\n",
      "torch.Size([8000, 28, 28])\n",
      "(8000,)\n"
     ]
    }
   ],
   "source": [
    "print(fmnist_train.data.shape)\n",
    "print(fmnist_train.targets.shape)\n",
    "\n",
    "print(fmnist_test.data.shape)\n",
    "print(fmnist_test.targets.shape)"
   ]
  },
  {
   "cell_type": "code",
   "execution_count": 118,
   "metadata": {},
   "outputs": [],
   "source": [
    "fmnist_train_dataloader = create_dataloader(fmnist_train, num_workers=8, batch_size=128)\n",
    "fmnist_test_dataloader = create_dataloader(fmnist_test, num_workers=8, batch_size=128)"
   ]
  },
  {
   "cell_type": "code",
   "execution_count": 120,
   "metadata": {},
   "outputs": [
    {
     "name": "stdout",
     "output_type": "stream",
     "text": [
      "torch.Size([128, 1, 28, 28])\n",
      "tensor([4, 6, 3, 4, 5, 4, 3, 4, 3, 3, 7, 0, 1, 7, 6, 2, 0, 0, 6, 6, 7, 6, 4, 4,\n",
      "        0, 6, 0, 4, 0, 7, 7, 5, 5, 5, 0, 7, 2, 2, 2, 5, 7, 5, 1, 2, 5, 0, 6, 4,\n",
      "        0, 7, 2, 6, 1, 6, 4, 2, 1, 2, 3, 3, 3, 7, 2, 7, 7, 4, 7, 4, 3, 7, 0, 6,\n",
      "        6, 0, 5, 6, 7, 4, 7, 7, 7, 5, 1, 6, 7, 4, 1, 1, 5, 0, 4, 7, 2, 7, 0, 6,\n",
      "        4, 3, 4, 5, 2, 7, 6, 2, 2, 7, 3, 7, 6, 3, 7, 2, 1, 4, 4, 1, 4, 1, 0, 2,\n",
      "        5, 4, 5, 2, 3, 7, 7, 2])\n",
      "Flattening: torch.Size([128, 784])\n"
     ]
    }
   ],
   "source": [
    "#one batch\n",
    "idx, (data_example, target_example) = next(enumerate(fmnist_train_dataloader))\n",
    "print(data_example.shape)\n",
    "print(target_example)\n",
    "print(f\"Flattening: {Flatten()(data_example).shape}\")"
   ]
  },
  {
   "cell_type": "code",
   "execution_count": 123,
   "metadata": {},
   "outputs": [
    {
     "name": "stdout",
     "output_type": "stream",
     "text": [
      "Flattened Dimensions: 784\n",
      "N Unique Classes: 3\n",
      "Loss Criterion = BCEWithLogitsLoss()\n",
      "Sequential(\n",
      "  (0): Conv2d(1, 96, kernel_size=(3, 3), stride=(1, 1))\n",
      "  (1): ReLU()\n",
      "  (2): Dropout(p=0.5, inplace=False)\n",
      "  (3): Conv2d(96, 96, kernel_size=(3, 3), stride=(1, 1))\n",
      "  (4): ReLU()\n",
      "  (5): Dropout(p=0.5, inplace=False)\n",
      "  (6): Conv2d(96, 96, kernel_size=(3, 3), stride=(2, 2))\n",
      "  (7): ReLU()\n",
      "  (8): Dropout(p=0.5, inplace=False)\n",
      "  (9): Conv2d(96, 192, kernel_size=(3, 3), stride=(1, 1))\n",
      "  (10): ReLU()\n",
      "  (11): Dropout(p=0.5, inplace=False)\n",
      "  (12): Conv2d(192, 192, kernel_size=(3, 3), stride=(1, 1))\n",
      "  (13): ReLU()\n",
      "  (14): Dropout(p=0.5, inplace=False)\n",
      "  (15): Conv2d(192, 192, kernel_size=(3, 3), stride=(2, 2))\n",
      "  (16): ReLU()\n",
      "  (17): Dropout(p=0.5, inplace=False)\n",
      "  (18): Flatten()\n",
      "  (19): Linear(in_features=1728, out_features=3, bias=True)\n",
      ")\n"
     ]
    }
   ],
   "source": [
    "flattened_dimensions = np.prod(fmnist_train.data[0].shape)\n",
    "n_unique_classes = int(np.log2(len(np.unique(fmnist_train.targets))))\n",
    "\n",
    "net = nn.Sequential(nn.Conv2d(1, 96, (3,3)),\n",
    "                    nn.ReLU(),\n",
    "                    nn.Dropout(0.5),\n",
    "                    \n",
    "                    nn.Conv2d(96, 96, (3,3)),\n",
    "                    nn.ReLU(),      \n",
    "                    nn.Dropout(0.5),\n",
    "                    \n",
    "                    nn.Conv2d(96, 96, (3,3), stride=2),                    \n",
    "                    nn.ReLU(),\n",
    "                    nn.Dropout(0.5),\n",
    "                    \n",
    "                    nn.Conv2d(96, 192, (3,3)),\n",
    "                    nn.ReLU(),      \n",
    "                    nn.Dropout(0.5),\n",
    "\n",
    "                    nn.Conv2d(192, 192, (3,3)),\n",
    "                    nn.ReLU(),      \n",
    "                    nn.Dropout(0.5),\n",
    "                    \n",
    "                    nn.Conv2d(192, 192, (3,3), stride=2),\n",
    "                    nn.ReLU(),      \n",
    "                    nn.Dropout(0.5),\n",
    "                    \n",
    "                    Flatten(),\n",
    "                    nn.Linear(1728, n_unique_classes),\n",
    "                   )\n",
    "\n",
    "criterion = nn.BCEWithLogitsLoss()\n",
    "optimizer = optim.Adam(net.parameters(), lr=1e-4)\n",
    "\n",
    "print(f\"Flattened Dimensions: {flattened_dimensions}\")\n",
    "print(f'N Unique Classes: {n_unique_classes}')\n",
    "print(f'Loss Criterion = {criterion}')\n",
    "print(net)"
   ]
  },
  {
   "cell_type": "code",
   "execution_count": 124,
   "metadata": {},
   "outputs": [
    {
     "name": "stdout",
     "output_type": "stream",
     "text": [
      "Epoch = 0 Loss = 0.4342790733973185\n",
      "Epoch = 5 Loss = 0.23216146636009216\n",
      "Epoch = 10 Loss = 0.2005605888366699\n",
      "Epoch = 15 Loss = 0.18152239221334457\n",
      "Epoch = 20 Loss = 0.16466756931940715\n",
      "Epoch = 25 Loss = 0.15245192960898082\n",
      "Epoch = 30 Loss = 0.1435787995457649\n",
      "Epoch = 35 Loss = 0.13619600226481757\n",
      "Epoch = 40 Loss = 0.13061896602312723\n",
      "Epoch = 45 Loss = 0.12468153727054596\n",
      "Epoch = 50 Loss = 0.12006285323699316\n",
      "Epoch = 55 Loss = 0.1153759748339653\n",
      "Epoch = 60 Loss = 0.11188350332776706\n",
      "Epoch = 65 Loss = 0.10907868774731953\n",
      "Epoch = 70 Loss = 0.10609426784515381\n",
      "Epoch = 75 Loss = 0.10274729677041372\n",
      "Epoch = 80 Loss = 0.10044899447758993\n",
      "Epoch = 85 Loss = 0.0987532576918602\n",
      "Epoch = 90 Loss = 0.09654146747787794\n",
      "Epoch = 95 Loss = 0.09377914798259736\n",
      "Epoch = 100 Loss = 0.09084911330540975\n",
      "Epoch = 105 Loss = 0.08977590793371201\n",
      "Epoch = 110 Loss = 0.08757436085740725\n",
      "Epoch = 115 Loss = 0.08656138890981674\n",
      "Epoch = 120 Loss = 0.08349677514036496\n",
      "Epoch = 125 Loss = 0.08402074648439885\n",
      "Epoch = 130 Loss = 0.08131193913022677\n",
      "Epoch = 135 Loss = 0.08033171580235163\n",
      "Epoch = 140 Loss = 0.07986520545681318\n",
      "Epoch = 145 Loss = 0.07843211555480957\n",
      "Epoch = 150 Loss = 0.0774663192431132\n",
      "Epoch = 155 Loss = 0.075392930885156\n",
      "Epoch = 160 Loss = 0.07508407679200173\n",
      "Epoch = 165 Loss = 0.07395022013783455\n",
      "Epoch = 170 Loss = 0.0715591116497914\n",
      "Epoch = 175 Loss = 0.07163433505098026\n",
      "Epoch = 180 Loss = 0.06911300207177798\n",
      "Epoch = 185 Loss = 0.0691322427590688\n",
      "Epoch = 190 Loss = 0.06758931761980057\n",
      "Epoch = 195 Loss = 0.06618027090032895\n",
      "Epoch = 200 Loss = 0.06583536576728026\n",
      "Epoch = 205 Loss = 0.06580294267336527\n",
      "Epoch = 210 Loss = 0.06490587991972764\n",
      "Epoch = 215 Loss = 0.06529402263462543\n",
      "Epoch = 220 Loss = 0.06305893118182818\n",
      "Epoch = 225 Loss = 0.06334266795217991\n",
      "Epoch = 230 Loss = 0.06373506079117457\n",
      "Epoch = 235 Loss = 0.06232403849065304\n",
      "Epoch = 240 Loss = 0.0637788066069285\n",
      "Epoch = 245 Loss = 0.060397025133172674\n",
      "Epoch = 250 Loss = 0.06003299016257127\n",
      "Epoch = 255 Loss = 0.05939597907165686\n",
      "Epoch = 260 Loss = 0.05959527380267779\n",
      "Epoch = 265 Loss = 0.05944035239766041\n",
      "Epoch = 270 Loss = 0.05774416254957517\n",
      "Epoch = 275 Loss = 0.05845815507570903\n",
      "Epoch = 280 Loss = 0.05715611957510312\n",
      "Epoch = 285 Loss = 0.055497978279987974\n",
      "Epoch = 290 Loss = 0.057305221411089104\n",
      "Epoch = 295 Loss = 0.05838941455880801\n",
      "Epoch = 300 Loss = 0.05711046502490839\n",
      "Epoch = 305 Loss = 0.05533948769668738\n",
      "Epoch = 310 Loss = 0.055136122822761535\n",
      "Epoch = 315 Loss = 0.05561581899474065\n",
      "Epoch = 320 Loss = 0.05538566073775292\n",
      "Epoch = 325 Loss = 0.05290733999013901\n",
      "Epoch = 330 Loss = 0.053435873751839\n",
      "Epoch = 335 Loss = 0.05266123578945796\n",
      "Epoch = 340 Loss = 0.05443229204416275\n",
      "Epoch = 345 Loss = 0.05258201052745183\n",
      "Epoch = 350 Loss = 0.051708896959821386\n",
      "Epoch = 355 Loss = 0.050848918333649636\n",
      "Epoch = 360 Loss = 0.05080243517955144\n",
      "Epoch = 365 Loss = 0.05119156819581985\n",
      "Epoch = 370 Loss = 0.04976135129729907\n",
      "Epoch = 375 Loss = 0.05028996987144152\n",
      "Epoch = 380 Loss = 0.050765575448671975\n",
      "Epoch = 385 Loss = 0.049840477600693704\n",
      "Epoch = 390 Loss = 0.050047077645858126\n",
      "Epoch = 395 Loss = 0.049958088380595046\n",
      "Epoch = 400 Loss = 0.04934980125973622\n",
      "Epoch = 405 Loss = 0.04900091740489006\n",
      "Epoch = 410 Loss = 0.04900177763650815\n",
      "Epoch = 415 Loss = 0.04811796649297079\n",
      "Epoch = 420 Loss = 0.048219619897504645\n",
      "Epoch = 425 Loss = 0.049007529338200885\n",
      "Epoch = 430 Loss = 0.04804959655801455\n",
      "Epoch = 435 Loss = 0.04782621333748102\n",
      "Epoch = 440 Loss = 0.04812244626382987\n",
      "Epoch = 445 Loss = 0.04780684167395036\n",
      "Epoch = 450 Loss = 0.04630935630202294\n",
      "Epoch = 455 Loss = 0.04663461935023467\n",
      "Epoch = 460 Loss = 0.04635241543998321\n",
      "Epoch = 465 Loss = 0.045341435799996055\n",
      "Epoch = 470 Loss = 0.04691053692748149\n",
      "Epoch = 475 Loss = 0.04526046548535426\n",
      "Epoch = 480 Loss = 0.04616194927195708\n",
      "Epoch = 485 Loss = 0.045237517135838665\n",
      "Epoch = 490 Loss = 0.045541949386397995\n",
      "Epoch = 495 Loss = 0.04578974196066459\n",
      "Epoch = 500 Loss = 0.04528081785142422\n",
      "Epoch = 505 Loss = 0.043644364183147745\n",
      "Epoch = 510 Loss = 0.0449131245786945\n",
      "Epoch = 515 Loss = 0.04410673260440429\n",
      "Epoch = 520 Loss = 0.04258469536403815\n",
      "Epoch = 525 Loss = 0.04453164920459191\n",
      "Epoch = 530 Loss = 0.042664585269987586\n",
      "Epoch = 535 Loss = 0.044216404184699055\n",
      "Epoch = 540 Loss = 0.04334397561103105\n",
      "Epoch = 545 Loss = 0.043871989503502844\n",
      "Epoch = 550 Loss = 0.04251423549403747\n",
      "Epoch = 555 Loss = 0.043470909863710404\n",
      "Epoch = 560 Loss = 0.04245323903361956\n",
      "Epoch = 565 Loss = 0.042966989646355314\n",
      "Epoch = 570 Loss = 0.04181063162287076\n",
      "Epoch = 575 Loss = 0.04270573297391335\n",
      "Epoch = 580 Loss = 0.0410378268485268\n",
      "Epoch = 585 Loss = 0.04305915327370167\n",
      "Epoch = 590 Loss = 0.04257635625948509\n",
      "Epoch = 595 Loss = 0.04161152626822392\n",
      "Epoch = 600 Loss = 0.040827143582204975\n",
      "Epoch = 605 Loss = 0.04246997208148241\n",
      "Epoch = 610 Loss = 0.0416560368090868\n",
      "Epoch = 615 Loss = 0.04153275983283917\n",
      "Epoch = 620 Loss = 0.041981871239840984\n",
      "Epoch = 625 Loss = 0.0420936027020216\n",
      "Epoch = 630 Loss = 0.04075546108310421\n",
      "Epoch = 635 Loss = 0.040624084976812205\n",
      "Epoch = 640 Loss = 0.039080065409342446\n",
      "Epoch = 645 Loss = 0.04093190184235573\n",
      "Epoch = 650 Loss = 0.04203215398142735\n",
      "Epoch = 655 Loss = 0.04149679705748956\n",
      "Epoch = 660 Loss = 0.03957735146582127\n",
      "Epoch = 665 Loss = 0.0402587039321661\n",
      "Epoch = 670 Loss = 0.040206272592147194\n",
      "Epoch = 675 Loss = 0.041435249065359434\n",
      "Epoch = 680 Loss = 0.03901090889175733\n",
      "Epoch = 685 Loss = 0.04093089320758979\n",
      "Epoch = 690 Loss = 0.03940132626891136\n",
      "Epoch = 695 Loss = 0.04060957576086124\n",
      "Epoch = 700 Loss = 0.03897164465487003\n",
      "Epoch = 705 Loss = 0.03914790597061316\n",
      "Epoch = 710 Loss = 0.038345790654420855\n",
      "Epoch = 715 Loss = 0.03909416222572327\n",
      "Epoch = 720 Loss = 0.04050261481106281\n",
      "Epoch = 725 Loss = 0.039261381275951864\n",
      "Epoch = 730 Loss = 0.03785722687840462\n",
      "Epoch = 735 Loss = 0.038835959209750096\n",
      "Epoch = 740 Loss = 0.03794432201236486\n",
      "Epoch = 745 Loss = 0.038938205281893415\n",
      "Epoch = 750 Loss = 0.038421742558479306\n",
      "Epoch = 755 Loss = 0.03943016436696053\n",
      "Epoch = 760 Loss = 0.039088771077493825\n",
      "Epoch = 765 Loss = 0.03755336633200447\n",
      "Epoch = 770 Loss = 0.03864660167445739\n",
      "Epoch = 775 Loss = 0.036960105345894896\n",
      "Epoch = 780 Loss = 0.038219994101673364\n",
      "Epoch = 785 Loss = 0.03812396389991045\n",
      "Epoch = 790 Loss = 0.03880407094210386\n",
      "Epoch = 795 Loss = 0.038255947866787515\n",
      "Epoch = 800 Loss = 0.036435694621255\n",
      "Epoch = 805 Loss = 0.03731173178801934\n",
      "Epoch = 810 Loss = 0.03790181421985229\n",
      "Epoch = 815 Loss = 0.038330184598763785\n",
      "Epoch = 820 Loss = 0.03732735420763492\n",
      "Epoch = 825 Loss = 0.035875003141661484\n",
      "Epoch = 830 Loss = 0.036202380279699964\n",
      "Epoch = 835 Loss = 0.03860611370454232\n",
      "Epoch = 840 Loss = 0.03715408209959666\n",
      "Epoch = 845 Loss = 0.03784626605610053\n",
      "Epoch = 850 Loss = 0.03753380910307169\n",
      "Epoch = 855 Loss = 0.03608379837870598\n",
      "Epoch = 860 Loss = 0.03664794177810351\n",
      "Epoch = 865 Loss = 0.03605471250911554\n",
      "Epoch = 870 Loss = 0.0367808252175649\n",
      "Epoch = 875 Loss = 0.03709089992195368\n",
      "Epoch = 880 Loss = 0.03574306255578995\n",
      "Epoch = 885 Loss = 0.036677926701804\n",
      "Epoch = 890 Loss = 0.03576178355018298\n",
      "Epoch = 895 Loss = 0.03700409294540683\n",
      "Epoch = 900 Loss = 0.03637546147157748\n",
      "Epoch = 905 Loss = 0.03630233368898431\n",
      "Epoch = 910 Loss = 0.03428702978417277\n",
      "Epoch = 915 Loss = 0.03531566929072141\n",
      "Epoch = 920 Loss = 0.03666259326785803\n",
      "Epoch = 925 Loss = 0.03529770260304212\n",
      "Epoch = 930 Loss = 0.03660188541313012\n",
      "Epoch = 935 Loss = 0.03541297101726135\n",
      "Epoch = 940 Loss = 0.035771117384235065\n",
      "Epoch = 945 Loss = 0.03528258616477251\n",
      "Epoch = 950 Loss = 0.03712120220810175\n",
      "Epoch = 955 Loss = 0.03675099205474059\n",
      "Epoch = 960 Loss = 0.03408432326341669\n",
      "Epoch = 965 Loss = 0.03616612958908081\n",
      "Epoch = 970 Loss = 0.03486175984889269\n",
      "Epoch = 975 Loss = 0.03612773053099712\n",
      "Epoch = 980 Loss = 0.03404939718420307\n",
      "Epoch = 985 Loss = 0.03496142652754982\n",
      "Epoch = 990 Loss = 0.03529705623909831\n",
      "Epoch = 995 Loss = 0.03694394996513923\n"
     ]
    }
   ],
   "source": [
    "N_epochs = 700 #1000 #2000\n",
    "net, loss_list = train_network(net, \n",
    "                               N_epochs, \n",
    "                               fmnist_train_dataloader, \n",
    "                               criterion, \n",
    "                               optimizer,\n",
    "                               preprocess_target=convert_to_binary)"
   ]
  },
  {
   "cell_type": "code",
   "execution_count": 125,
   "metadata": {},
   "outputs": [
    {
     "name": "stdout",
     "output_type": "stream",
     "text": [
      "Train\n",
      "Accuracy = 0.9996\n",
      "Test\n",
      "Accuracy = 0.9119\n"
     ]
    }
   ],
   "source": [
    "sig = nn.Sigmoid()\n",
    "process_pred = lambda x: torch.Tensor(convert_to_decimal((sig(x) >= 0.5).int()))\n",
    "\n",
    "print(\"Train\")\n",
    "compute_accuracy(fmnist_train_dataloader, net, process_pred=process_pred)\n",
    "\n",
    "print(\"Test\")\n",
    "compute_accuracy(fmnist_test_dataloader, net, process_pred=process_pred)"
   ]
  },
  {
   "cell_type": "markdown",
   "metadata": {},
   "source": [
    "#### Save Model"
   ]
  },
  {
   "cell_type": "code",
   "execution_count": 126,
   "metadata": {},
   "outputs": [],
   "source": [
    "#torch.save(net.state_dict(), './bitrep_fmnist_epoch1000_loss0.036.pkl')"
   ]
  },
  {
   "cell_type": "code",
   "execution_count": 129,
   "metadata": {},
   "outputs": [
    {
     "data": {
      "text/plain": [
       "Sequential(\n",
       "  (0): Conv2d(1, 96, kernel_size=(3, 3), stride=(1, 1))\n",
       "  (1): ReLU()\n",
       "  (2): Dropout(p=0.5, inplace=False)\n",
       "  (3): Conv2d(96, 96, kernel_size=(3, 3), stride=(1, 1))\n",
       "  (4): ReLU()\n",
       "  (5): Dropout(p=0.5, inplace=False)\n",
       "  (6): Conv2d(96, 96, kernel_size=(3, 3), stride=(2, 2))\n",
       "  (7): ReLU()\n",
       "  (8): Dropout(p=0.5, inplace=False)\n",
       "  (9): Conv2d(96, 192, kernel_size=(3, 3), stride=(1, 1))\n",
       "  (10): ReLU()\n",
       "  (11): Dropout(p=0.5, inplace=False)\n",
       "  (12): Conv2d(192, 192, kernel_size=(3, 3), stride=(1, 1))\n",
       "  (13): ReLU()\n",
       "  (14): Dropout(p=0.5, inplace=False)\n",
       "  (15): Conv2d(192, 192, kernel_size=(3, 3), stride=(2, 2))\n",
       "  (16): ReLU()\n",
       "  (17): Dropout(p=0.5, inplace=False)\n",
       "  (18): Flatten()\n",
       "  (19): Linear(in_features=1728, out_features=3, bias=True)\n",
       ")"
      ]
     },
     "execution_count": 129,
     "metadata": {},
     "output_type": "execute_result"
    }
   ],
   "source": [
    "flattened_dimensions = np.prod(fmnist_train.data[0].shape)\n",
    "n_unique_classes = int(np.log2(len(np.unique(fmnist_train.targets))))\n",
    "\n",
    "net2 = nn.Sequential(nn.Conv2d(1, 96, (3,3)),\n",
    "                    nn.ReLU(),\n",
    "                    nn.Dropout(0.5),\n",
    "                    \n",
    "                    nn.Conv2d(96, 96, (3,3)),\n",
    "                    nn.ReLU(),      \n",
    "                    nn.Dropout(0.5),\n",
    "                    \n",
    "                    nn.Conv2d(96, 96, (3,3), stride=2),                    \n",
    "                    nn.ReLU(),\n",
    "                    nn.Dropout(0.5),\n",
    "                    \n",
    "                    nn.Conv2d(96, 192, (3,3)),\n",
    "                    nn.ReLU(),      \n",
    "                    nn.Dropout(0.5),\n",
    "\n",
    "                    nn.Conv2d(192, 192, (3,3)),\n",
    "                    nn.ReLU(),      \n",
    "                    nn.Dropout(0.5),\n",
    "                    \n",
    "                    nn.Conv2d(192, 192, (3,3), stride=2),\n",
    "                    nn.ReLU(),      \n",
    "                    nn.Dropout(0.5),\n",
    "                    \n",
    "                    Flatten(),\n",
    "                    nn.Linear(1728, n_unique_classes),\n",
    "                   )\n",
    "net2.load_state_dict(torch.load('./bitrep_fmnist_epoch1000_loss0.036.pkl'))\n",
    "net2.to(device)"
   ]
  },
  {
   "cell_type": "code",
   "execution_count": 130,
   "metadata": {},
   "outputs": [
    {
     "name": "stdout",
     "output_type": "stream",
     "text": [
      "Train\n",
      "Accuracy = 0.9996\n",
      "Test\n",
      "Accuracy = 0.9119\n"
     ]
    }
   ],
   "source": [
    "sig = nn.Sigmoid()\n",
    "process_pred = lambda x: torch.Tensor(convert_to_decimal((sig(x) >= 0.5).int()))\n",
    "\n",
    "print(\"Train\")\n",
    "compute_accuracy(fmnist_train_dataloader, net2, process_pred=process_pred)\n",
    "\n",
    "print(\"Test\")\n",
    "compute_accuracy(fmnist_test_dataloader, net2, process_pred=process_pred)"
   ]
  },
  {
   "cell_type": "markdown",
   "metadata": {},
   "source": [
    "## Experiment 3: Rounding"
   ]
  },
  {
   "cell_type": "markdown",
   "metadata": {},
   "source": [
    "Predict Sigmoid -> scale -> round"
   ]
  },
  {
   "cell_type": "code",
   "execution_count": null,
   "metadata": {},
   "outputs": [],
   "source": [
    "class Flatten(nn.Module):\n",
    "    def __init__(self):\n",
    "        super(Flatten, self).__init__()\n",
    "        \n",
    "    def forward(self, inp):\n",
    "        return inp.flatten(start_dim=1, end_dim=-1)\n",
    "    \n",
    "net = nn.Sequential(Flatten(), \n",
    "                    nn.Linear(784, 100),\n",
    "                    nn.ReLU(),\n",
    "                    nn.Linear(100, 1), \n",
    "                    nn.ReLU(), #1 scaled class number\n",
    "                   )\n",
    "\n",
    "criterion = nn.MSELoss()\n",
    "optimizer = optim.Adam(net.parameters(), lr=1e-2)"
   ]
  },
  {
   "cell_type": "code",
   "execution_count": null,
   "metadata": {},
   "outputs": [],
   "source": [
    "net.train()\n",
    "net.to(device)\n",
    "\n",
    "N_EPOCHS = 20\n",
    "MAX_CLASS = 8\n",
    "for epoch in range(N_EPOCHS):\n",
    "    loss_list = []\n",
    "    for idx, (data_example, data_target) in enumerate(train_dataloader):\n",
    "        data_example = data_example.to(device)\n",
    "        data_target = data_target.to(device).float()\n",
    "        \n",
    "        pred = net(data_example).squeeze(1) #[0,1]\n",
    "        \n",
    "        pred = torch.round(pred * MAX_CLASS)\n",
    "        \n",
    "        loss = criterion(pred, data_target)\n",
    "\n",
    "        optimizer.zero_grad()\n",
    "        loss.backward()\n",
    "        optimizer.step()\n",
    "\n",
    "        loss_list.append(loss.item())\n",
    "        \n",
    "    if epoch % 5 == 0:        \n",
    "        print(f'Epoch = {epoch} Loss = {np.mean(loss_list)}')"
   ]
  },
  {
   "cell_type": "code",
   "execution_count": null,
   "metadata": {},
   "outputs": [],
   "source": [
    "data_target.shape"
   ]
  },
  {
   "cell_type": "code",
   "execution_count": null,
   "metadata": {},
   "outputs": [],
   "source": [
    "pred.squeeze(1)"
   ]
  },
  {
   "cell_type": "code",
   "execution_count": null,
   "metadata": {},
   "outputs": [],
   "source": [
    "torch.round(torch.tensor([0.3, 1.2, 1.7]))"
   ]
  },
  {
   "cell_type": "code",
   "execution_count": null,
   "metadata": {},
   "outputs": [],
   "source": [
    "net = net.to(device)"
   ]
  },
  {
   "cell_type": "code",
   "execution_count": null,
   "metadata": {},
   "outputs": [],
   "source": [
    "data_target"
   ]
  },
  {
   "cell_type": "code",
   "execution_count": null,
   "metadata": {},
   "outputs": [],
   "source": []
  }
 ],
 "metadata": {
  "kernelspec": {
   "display_name": "Python 3",
   "language": "python",
   "name": "python3"
  },
  "language_info": {
   "codemirror_mode": {
    "name": "ipython",
    "version": 3
   },
   "file_extension": ".py",
   "mimetype": "text/x-python",
   "name": "python",
   "nbconvert_exporter": "python",
   "pygments_lexer": "ipython3",
   "version": "3.7.6"
  }
 },
 "nbformat": 4,
 "nbformat_minor": 4
}
